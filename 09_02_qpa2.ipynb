{
  "cells": [
    {
      "cell_type": "markdown",
      "metadata": {
        "id": "Qcr7iui7ftbk"
      },
      "source": [
        "<a target=\"_blank\" href=\"https://colab.research.google.com/github/ZHAW-ZAV/TSO-FS25-students/blob/main/09_qpa/09_02_qpa2.ipynb\">\n",
        "  <img src=\"https://colab.research.google.com/assets/colab-badge.svg\" alt=\"Open In Colab\"/>\n",
        "</a>"
      ]
    },
    {
      "cell_type": "code",
      "execution_count": 1,
      "metadata": {
        "colab": {
          "base_uri": "https://localhost:8080/"
        },
        "id": "oFHL9f5Jftbo",
        "outputId": "c8a5e9ac-1c66-4a3c-a3ee-093bf780ff0c"
      },
      "outputs": [
        {
          "output_type": "stream",
          "name": "stdout",
          "text": [
            "Mounted at /content/drive\n",
            "Downloading...\n",
            "From (original): https://drive.google.com/uc?id=1fuyEnXBRBZJ1O2ijOLx4ms-L4si430RJ\n",
            "From (redirected): https://drive.google.com/uc?id=1fuyEnXBRBZJ1O2ijOLx4ms-L4si430RJ&confirm=t&uuid=e53e01fb-df3f-49b9-a910-7406f4fdf3c2\n",
            "To: /content/tso-env.zip\n",
            "100% 362M/362M [00:04<00:00, 88.6MB/s]\n",
            "27659it [00:16, 1686.73it/s]\n"
          ]
        }
      ],
      "source": [
        "import random\n",
        "import numpy as np\n",
        "import pandas as pd\n",
        "import plotly.express as px\n",
        "import plotly.graph_objects as go\n",
        "from tqdm import tqdm\n",
        "import itertools\n",
        "import sys\n",
        "\n",
        "IN_COLAB = \"google.colab\" in sys.modules\n",
        "if IN_COLAB:\n",
        "    from google.colab import drive\n",
        "\n",
        "    # Download the TSO environment\n",
        "    drive.mount(\"/content/drive\")\n",
        "    shared_file = \"1fuyEnXBRBZJ1O2ijOLx4ms-L4si430RJ\"\n",
        "    !gdown \"https://drive.google.com/uc?id={shared_file}\" -O tso-env.zip\n",
        "\n",
        "    !unzip tso-env.zip -d /content | tqdm > /dev/null\n",
        "\n",
        "    !source /content/tso-env/bin/activate\n",
        "\n",
        "    sys.path.append(\"/content/tso-env/lib/python3.11/site-packages/\")\n"
      ]
    },
    {
      "cell_type": "code",
      "execution_count": 2,
      "metadata": {
        "id": "rpO3Sr6Oftbp"
      },
      "outputs": [],
      "source": [
        "import simpy"
      ]
    },
    {
      "cell_type": "markdown",
      "metadata": {
        "id": "72J4Db9rftbq"
      },
      "source": [
        "The code above loads the data, do not modify.\n",
        "\n",
        "***\n",
        "\n",
        "# TSO Semester Week 10: Quantitative Process Analysis\n",
        "\n",
        "This exercise deals with the topic of quantitative process analysis using the example of a security check in a fictitious airport terminal. Use the DES simulation model of an M/M/c queueing system provided below for this exercise.\n",
        "\n",
        "This exercise focusses on the following topics:\n",
        "* PART A: You will deal with the topics transient vs. steady state of a DES simulation model. You will also compare the steady-state results with those of an analytical queuing model (which you are familiar with from the INFRA-AD module).\n",
        "* PART B: You will analyse the influence of initial conditions on the results of a DES simulation model (especially on the transition between the transient and the steady state).\n",
        "* PART C: You carry out a $2^k$ factorial analysis.\n",
        "\n",
        "Note that this exercise is based on the chapters *Analyzing Outputs of DES Simulations* and *Experimental Design* of the **TSO Quantitative Process Analysis Script**.\n",
        "\n",
        "***\n",
        "## PART A: Transient vs. Steady-State\n",
        "Below you will find the software code for a DES simulation of an M/M/c queueing system. The DES model is parameterised via the global variables in the *Parametrisation of Simulation Model* block. The simulation results for the delays experienced by the passengers (i.e. waiting times in the queue) can be found in the dataframe `df_delays`. The resulting queue lengths can be found in the dataframe `df_queue_lengths`.\n",
        "\n",
        "Use the DES simulation model of an M/M/c queueing system provided below with the specified parameters for the following tasks:\n",
        "1. Create a plot showing the delay experienced by the passengers vs. the passenger index. Plot the average delay, the 10th, 25th, 75th, and 90th percentile.\n",
        "2. Based on the plot created from Task 1, determine the transient phase (warm-up) and the steady-state phase.\n",
        "3. Compare the average delay in the steady-state with the results of an analytical model for an M/M/c queueing system. Information on the analytical model of an M/M/c system can be found in the INFRA-AD documents (e.g., see video [*Queueing System Models*](https://zhaw.mediaspace.cast.switch.ch/media/t/0_4x5ixao3/7740?))."
      ]
    },
    {
      "cell_type": "code",
      "execution_count": 3,
      "metadata": {
        "colab": {
          "base_uri": "https://localhost:8080/"
        },
        "id": "_vzhF2muftbr",
        "outputId": "cdd79c3c-d705-4478-9160-6e50d41e1cd2"
      },
      "outputs": [
        {
          "output_type": "stream",
          "name": "stderr",
          "text": [
            "Running Simulations: 100%|██████████| 2000/2000 [01:48<00:00, 18.48run/s]\n"
          ]
        }
      ],
      "source": [
        "# Simulation parameters\n",
        "C = 2                   # Number of Servers\n",
        "ARRIVAL_RATE = 1        # Lambda: Average number of arrivals per time unit\n",
        "SERVICE_RATE = 0.55555  # Mu: Average number of services per server per time unit\n",
        "SIM_TIME = 3000         # Total simulation time\n",
        "NUM_RUNS = 2000         # Number of independent simulation runs\n",
        "CUSTOMER_INTERVAL = 20  # Record delays for every 20th customer\n",
        "\n",
        "\n",
        "# Function to generate interarrival times\n",
        "def generate_interarrival_time(arrival_rate):\n",
        "    \"\"\"Generate interarrival time based on exponential distribution.\"\"\"\n",
        "    return random.expovariate(arrival_rate)\n",
        "\n",
        "# Function to generate service times\n",
        "def generate_service_time(mean_service_rate):\n",
        "    \"\"\"Generate service time based on exponential distribution.\"\"\"\n",
        "    return random.expovariate(mean_service_rate)\n",
        "\n",
        "# Simulation function\n",
        "def simulate_one_run(customer_interval):\n",
        "    \"\"\"Simulate a single M/M/c run and record delays & queue lengths for every `customer_interval` customer.\"\"\"\n",
        "    delays = {}\n",
        "    queue_lengths = {}\n",
        "\n",
        "    def customer(env, name, server, service_rate):\n",
        "        \"\"\"A customer process arriving and waiting for service.\"\"\"\n",
        "        arrival_time = env.now\n",
        "\n",
        "        # Log queue length at arrival\n",
        "        queue_length_at_arrival = len(server.queue)\n",
        "\n",
        "        with server.request() as request:\n",
        "            yield request  # Wait for the server\n",
        "            wait_time = env.now - arrival_time  # Time spent in queue\n",
        "\n",
        "            if name % customer_interval == 0:  # Record for every `customer_interval` customer\n",
        "                delays[name] = wait_time\n",
        "                queue_lengths[name] = queue_length_at_arrival\n",
        "\n",
        "            service_time = generate_service_time(service_rate)\n",
        "            yield env.timeout(service_time)  # Simulate service\n",
        "\n",
        "    def arrival_process(env, server, arrival_rate, service_rate):\n",
        "        \"\"\"Process generating customers according to a Poisson arrival process.\"\"\"\n",
        "        customer_id = 0\n",
        "        while True:\n",
        "            interarrival_time = generate_interarrival_time(arrival_rate)\n",
        "            yield env.timeout(interarrival_time)\n",
        "            customer_id += 1\n",
        "            env.process(customer(env, customer_id, server, service_rate))\n",
        "\n",
        "    # Create the simulation environment\n",
        "    env = simpy.Environment()\n",
        "    server = simpy.Resource(env, capacity=C)\n",
        "    env.process(arrival_process(env, server, ARRIVAL_RATE, SERVICE_RATE))\n",
        "    env.run(until=SIM_TIME)\n",
        "\n",
        "    return delays, queue_lengths\n",
        "\n",
        "# Run the simulation NUM_RUNS times and collect data\n",
        "all_delays = {i: [] for i in range(CUSTOMER_INTERVAL, SIM_TIME, CUSTOMER_INTERVAL)}\n",
        "all_queue_lengths = {i: [] for i in range(CUSTOMER_INTERVAL, SIM_TIME, CUSTOMER_INTERVAL)}\n",
        "\n",
        "for run in tqdm(range(NUM_RUNS), desc=\"Running Simulations\", unit=\"run\"):\n",
        "    delays, queue_lengths = simulate_one_run(CUSTOMER_INTERVAL)\n",
        "\n",
        "    for customer, delay in delays.items():\n",
        "        if customer in all_delays:\n",
        "            all_delays[customer].append(delay)\n",
        "\n",
        "    for customer, queue_length in queue_lengths.items():\n",
        "        if customer in all_queue_lengths:\n",
        "            all_queue_lengths[customer].append(queue_length)\n",
        "\n",
        "# Convert results to DataFrames for analysis\n",
        "df_delays = pd.DataFrame.from_dict(all_delays, orient=\"index\").T\n",
        "df_queue_lengths = pd.DataFrame.from_dict(all_queue_lengths, orient=\"index\").T\n"
      ]
    },
    {
      "cell_type": "code",
      "execution_count": null,
      "metadata": {
        "id": "2Godw7I6ftbs"
      },
      "outputs": [],
      "source": [
        "# PART A, Task 1: Plot the delay distribution"
      ]
    },
    {
      "cell_type": "code",
      "execution_count": null,
      "metadata": {
        "id": "w2whindQftbs"
      },
      "outputs": [],
      "source": [
        "# Part A, Task 2: Warm-up & Steady-State Conditions"
      ]
    },
    {
      "cell_type": "code",
      "execution_count": null,
      "metadata": {
        "id": "1CHZmJWaftbt"
      },
      "outputs": [],
      "source": [
        "# Part A, Task 3: Comparison with Analytical Queueing System Model"
      ]
    },
    {
      "cell_type": "markdown",
      "metadata": {
        "id": "wvuLfycvftbu"
      },
      "source": [
        "***\n",
        "## PART B: Examine Influence of Initial Conditions\n",
        "\n",
        "Below you will find the software code for a DES simulation of an M/M/c queueing system. The DES model is parameterised via the global variables in the *Parametrisation of Simulation Model* block. In PART B of this exercise we investigate the influence of initial conditions on the transient phase of a DES simulation model. To this end, we analyse how the number of passengers being present in the queue of the queueing system at simulation time $t=0$ (see parameter `INITIAL_ENTITIES`) affects the transient phase .\n",
        "\n",
        "The simulation results are saved in dictionary `results`. For each value in the `INITIAL_ENTITIES` list, which acts as the key of `results`, a dataframe `df_delays` is saved for the delays experienced by the passengers (i.e., waiting times in the queue) and a dataframe `df_queue_lengths` for the resulting queue lengths. For example, if you want to read the results for `INITIAL_ENTITIES = 20`, you can do this as follows `df_delays, df_queue_length = results[20]`.\n",
        "\n",
        "### Tasks:\n",
        "1. plot a diagram in which the delays experienced by the passengers are plotted for all analysed values of `INITIAL_ENTITIES` as a function of the passenger index."
      ]
    },
    {
      "cell_type": "code",
      "execution_count": 4,
      "metadata": {
        "colab": {
          "base_uri": "https://localhost:8080/"
        },
        "id": "3SNfTvXLftbw",
        "outputId": "324678b6-9f32-49b8-f852-21ccebd7389d"
      },
      "outputs": [
        {
          "output_type": "stream",
          "name": "stderr",
          "text": [
            "Simulating for Initial Queue = 0: 100%|██████████| 2000/2000 [01:54<00:00, 17.51run/s]\n",
            "Simulating for Initial Queue = 10: 100%|██████████| 2000/2000 [02:12<00:00, 15.05run/s]\n",
            "Simulating for Initial Queue = 20: 100%|██████████| 2000/2000 [02:01<00:00, 16.47run/s]\n",
            "Simulating for Initial Queue = 30: 100%|██████████| 2000/2000 [02:08<00:00, 15.52run/s]\n",
            "Simulating for Initial Queue = 40: 100%|██████████| 2000/2000 [01:55<00:00, 17.29run/s]\n",
            "Simulating for Initial Queue = 50: 100%|██████████| 2000/2000 [01:53<00:00, 17.59run/s]\n"
          ]
        }
      ],
      "source": [
        "# Parametrization of Simulation Model\n",
        "C = 2                                                   # Number of Servers\n",
        "ARRIVAL_RATE = 1                                        # Lambda: Average number of arrivals per time unit\n",
        "SERVICE_RATE = 0.55555                                  # Mu: Average number of services per server per time unit\n",
        "SIM_TIME = 3000                                         # Total simulation time\n",
        "NUM_RUNS = 2000                                         # Number of independent simulation runs\n",
        "CUSTOMER_INTERVAL = 20                                  # Record delays for every 20th customer\n",
        "INITIAL_ENTITIES = [0, 10, 20, 30, 40, 50]   # Different initial queue lengths\n",
        "\n",
        "# Function to generate interarrival times\n",
        "def generate_interarrival_time(arrival_rate):\n",
        "    \"\"\"Generate interarrival time based on exponential distribution.\"\"\"\n",
        "    return random.expovariate(arrival_rate)\n",
        "\n",
        "# Function to generate service times\n",
        "def generate_service_time(mean_service_rate):\n",
        "    \"\"\"Generate service time based on exponential distribution.\"\"\"\n",
        "    return random.expovariate(mean_service_rate)\n",
        "\n",
        "# Simulation function\n",
        "def simulate_one_run(initial_queue, customer_interval):\n",
        "    \"\"\"Simulate a single M/M/c run with an initial queue.\"\"\"\n",
        "    delays = {}\n",
        "    queue_lengths = {}\n",
        "\n",
        "    def initial_queue_process(env, server, initial_queue, service_rate):\n",
        "        \"\"\"Populate the system with `initial_queue` customers at the start.\"\"\"\n",
        "        for i in range(initial_queue):\n",
        "            env.process(customer(env, f\"Initial-{i}\", server, service_rate))\n",
        "            yield env.timeout(0)  # Ensure proper scheduling\n",
        "\n",
        "    def customer(env, name, server, service_rate):\n",
        "        \"\"\"A customer process arriving and waiting for service.\"\"\"\n",
        "        arrival_time = env.now\n",
        "        queue_length_at_arrival = len(server.queue)  # Log queue length\n",
        "\n",
        "        with server.request() as request:\n",
        "            yield request  # Wait for the server\n",
        "            wait_time = env.now - arrival_time  # Time spent in queue\n",
        "\n",
        "            if isinstance(name, int) and name % customer_interval == 0:  # Record every `customer_interval` customer\n",
        "                delays[name] = wait_time\n",
        "                queue_lengths[name] = queue_length_at_arrival\n",
        "\n",
        "            service_time = generate_service_time(service_rate)\n",
        "            yield env.timeout(service_time)  # Simulate service\n",
        "\n",
        "    def arrival_process(env, server, arrival_rate, service_rate):\n",
        "        \"\"\"Process generating customers according to a Poisson arrival process.\"\"\"\n",
        "        customer_id = 0\n",
        "        while True:\n",
        "            interarrival_time = generate_interarrival_time(arrival_rate)\n",
        "            yield env.timeout(interarrival_time)\n",
        "            customer_id += 1\n",
        "            env.process(customer(env, customer_id, server, service_rate))\n",
        "\n",
        "    # Create the simulation environment\n",
        "    env = simpy.Environment()\n",
        "    server = simpy.Resource(env, capacity=C)\n",
        "\n",
        "    # Populate initial queue\n",
        "    env.process(initial_queue_process(env, server, initial_queue, SERVICE_RATE))\n",
        "\n",
        "    # Start arrival process\n",
        "    env.process(arrival_process(env, server, ARRIVAL_RATE, SERVICE_RATE))\n",
        "    env.run(until=SIM_TIME)\n",
        "\n",
        "    return delays, queue_lengths\n",
        "\n",
        "# Run the simulation for different initial queue conditions\n",
        "results = {}\n",
        "for initial_queue in INITIAL_ENTITIES:\n",
        "    all_delays = {i: [] for i in range(CUSTOMER_INTERVAL, SIM_TIME, CUSTOMER_INTERVAL)}\n",
        "    all_queue_lengths = {i: [] for i in range(CUSTOMER_INTERVAL, SIM_TIME, CUSTOMER_INTERVAL)}\n",
        "\n",
        "    # Run simulations with tqdm progress bar\n",
        "    for _ in tqdm(range(NUM_RUNS), desc=f\"Simulating for Initial Queue = {initial_queue}\", unit=\"run\"):\n",
        "        delays, queue_lengths = simulate_one_run(initial_queue, CUSTOMER_INTERVAL)\n",
        "\n",
        "        for customer, delay in delays.items():\n",
        "            if customer in all_delays:\n",
        "                all_delays[customer].append(delay)\n",
        "\n",
        "        for customer, queue_length in queue_lengths.items():\n",
        "            if customer in all_queue_lengths:\n",
        "                all_queue_lengths[customer].append(queue_length)\n",
        "\n",
        "    results[initial_queue] = (all_delays, all_queue_lengths)\n",
        "\n",
        "# Convert results to DataFrames for each initial queue condition\n",
        "converted_results = {}  # Create a new dictionary to store the converted DataFrames\n",
        "\n",
        "for initial_queue, (delays, queue_lengths) in results.items():\n",
        "    df_delays = pd.DataFrame.from_dict(delays, orient=\"index\").T\n",
        "    df_queue_lengths = pd.DataFrame.from_dict(queue_lengths, orient=\"index\").T\n",
        "    converted_results[initial_queue] = (df_delays, df_queue_lengths)\n",
        "\n",
        "# If you want to overwrite the original dictionary with the converted DataFrames\n",
        "results = converted_results"
      ]
    },
    {
      "cell_type": "code",
      "execution_count": 29,
      "metadata": {
        "colab": {
          "base_uri": "https://localhost:8080/",
          "height": 727
        },
        "id": "lKeGqkdOftbx",
        "outputId": "1dd327fb-7116-4302-8bec-a3b5fad32900"
      },
      "outputs": [
        {
          "output_type": "stream",
          "name": "stderr",
          "text": [
            "<ipython-input-29-d75dc15a3cfb>:7: UserWarning: No artists with labels found to put in legend.  Note that artists whose label start with an underscore are ignored when legend() is called with no argument.\n",
            "  plt.legend(loc='upper right')\n"
          ]
        },
        {
          "output_type": "error",
          "ename": "KeyError",
          "evalue": "0",
          "traceback": [
            "\u001b[0;31m---------------------------------------------------------------------------\u001b[0m",
            "\u001b[0;31mKeyError\u001b[0m                                  Traceback (most recent call last)",
            "\u001b[0;32m<ipython-input-29-d75dc15a3cfb>\u001b[0m in \u001b[0;36m<cell line: 0>\u001b[0;34m()\u001b[0m\n\u001b[1;32m     12\u001b[0m \u001b[0;32mfor\u001b[0m \u001b[0mi\u001b[0m\u001b[0;34m,\u001b[0m \u001b[0minitial_queue_length\u001b[0m \u001b[0;32min\u001b[0m \u001b[0menumerate\u001b[0m\u001b[0;34m(\u001b[0m\u001b[0mINITIAL_ENTITIES\u001b[0m\u001b[0;34m)\u001b[0m\u001b[0;34m:\u001b[0m\u001b[0;34m\u001b[0m\u001b[0;34m\u001b[0m\u001b[0m\n\u001b[1;32m     13\u001b[0m   \u001b[0minitial_queue\u001b[0m \u001b[0;34m=\u001b[0m \u001b[0minitial_queue_length\u001b[0m\u001b[0;34m\u001b[0m\u001b[0;34m\u001b[0m\u001b[0m\n\u001b[0;32m---> 14\u001b[0;31m   \u001b[0mdf_delays\u001b[0m\u001b[0;34m,\u001b[0m \u001b[0m_\u001b[0m \u001b[0;34m=\u001b[0m \u001b[0mresults\u001b[0m\u001b[0;34m[\u001b[0m\u001b[0minitial_queue\u001b[0m\u001b[0;34m]\u001b[0m\u001b[0;34m\u001b[0m\u001b[0;34m\u001b[0m\u001b[0m\n\u001b[0m\u001b[1;32m     15\u001b[0m   \u001b[0mmean_delay\u001b[0m \u001b[0;34m=\u001b[0m \u001b[0mdf_delays\u001b[0m\u001b[0;34m.\u001b[0m\u001b[0mmean\u001b[0m\u001b[0;34m(\u001b[0m\u001b[0maxis\u001b[0m\u001b[0;34m=\u001b[0m\u001b[0;36m0\u001b[0m\u001b[0;34m)\u001b[0m        \u001b[0;31m# per-customer mean (per column)\u001b[0m\u001b[0;34m\u001b[0m\u001b[0;34m\u001b[0m\u001b[0m\n\u001b[1;32m     16\u001b[0m   \u001b[0mplt\u001b[0m\u001b[0;34m.\u001b[0m\u001b[0mplot\u001b[0m\u001b[0;34m(\u001b[0m\u001b[0mmean_delay\u001b[0m\u001b[0;34m.\u001b[0m\u001b[0mindex\u001b[0m\u001b[0;34m,\u001b[0m \u001b[0mmean_delay\u001b[0m\u001b[0;34m.\u001b[0m\u001b[0mvalues\u001b[0m\u001b[0;34m)\u001b[0m\u001b[0;34m\u001b[0m\u001b[0;34m\u001b[0m\u001b[0m\n",
            "\u001b[0;31mKeyError\u001b[0m: 0"
          ]
        },
        {
          "output_type": "display_data",
          "data": {
            "text/plain": [
              "<Figure size 1200x600 with 1 Axes>"
            ],
            "image/png": "[encoded data removed]"
          },
          "metadata": {}
        }
      ],
      "source": [
        "# PART B, TASK 1: Plot of how the initial conditions affect the warm-up period\n",
        "import matplotlib.pyplot as plt\n",
        "\n",
        "plt.figure(figsize=(12,6))\n",
        "plt.xlabel('Customer [Index]')\n",
        "plt.ylabel('Mean Delay [Time Units]')\n",
        "plt.ylim(0, 40)\n",
        "plt.xlim(0, 1400)\n",
        "plt.grid()\n",
        "\n",
        "for i, initial_queue_length in enumerate(INITIAL_ENTITIES):\n",
        "  initial_queue = str(initial_queue_length)\n",
        "  df_delays, _ = results[initial_queue]\n",
        "  mean_delay = df_delays.mean(axis=0)        # per-customer mean (per column)\n",
        "  plt.plot(mean_delay.index, mean_delay.values)\n",
        "\n",
        "plt.legend(loc='upper right')\n",
        "plt.show()"
      ]
    },
    {
      "cell_type": "markdown",
      "metadata": {
        "id": "SUYvWC3yftby"
      },
      "source": [
        "***\n",
        "## PART C: $2^k$-Factorial Design & Analysis\n",
        "\n",
        "Carry out a $2^k$ factorial analysis. Use the DES model of an M/M/c queueing system below. We analyse the influence of two **factors**, namely (i) number of servers `SERVERS` and (ii) average service rate of a server `SERVICE_RATES` on the **response** average delay in steady-state conditions. For this purpose, we have defined both factors as vectors, the first element of which describes a low (-) state and the second element the high (+) state. The simulation model below then performs `NUM_RUNS` for all combinations of the two analysed factors and saves the results in dictionary `results`.\n",
        "\n",
        "### Tasks:\n",
        "1. Create a plot showing the delay experienced by passengers versus the Passenger Index for all combinations of the two factors.\n",
        "2. Calculate the responses $R_1, R_2, R_3$ and $R_4$ (i.e. the average delays in steady-state conditions) for all combinations of the factors.\n",
        "3. Calculate effect size $e_1$ and $e_2$ of the two factors. Interpret the results."
      ]
    },
    {
      "cell_type": "code",
      "execution_count": 28,
      "metadata": {
        "colab": {
          "base_uri": "https://localhost:8080/"
        },
        "id": "R1GYbLpiftby",
        "outputId": "b1786d5c-ff76-45b6-8eba-baaf487bed4c"
      },
      "outputs": [
        {
          "output_type": "stream",
          "name": "stderr",
          "text": [
            "Simulating Servers=3, ServiceRate=0.5263: 100%|██████████| 5000/5000 [06:17<00:00, 13.25run/s]\n",
            "Simulating Servers=3, ServiceRate=0.6250: 100%|██████████| 5000/5000 [06:15<00:00, 13.30run/s]\n",
            "Simulating Servers=4, ServiceRate=0.5263: 100%|██████████| 5000/5000 [06:12<00:00, 13.42run/s]\n",
            "Simulating Servers=4, ServiceRate=0.6250: 100%|██████████| 5000/5000 [06:11<00:00, 13.47run/s]\n"
          ]
        }
      ],
      "source": [
        "# Simulation parameters\n",
        "ARRIVAL_RATE = 1.4          # Arrival Rate [passengers per unit time]\n",
        "SIM_TIME = 3000             # Total simulation time\n",
        "NUM_RUNS = 5000             # Number of independent simulation runs\n",
        "CUSTOMER_INTERVAL = 20      # Record delays for every 20th customer\n",
        "\n",
        "# Factor levels\n",
        "SERVERS = [3, 4]                      # Factor 1: Number of servers\n",
        "SERVICE_RATES = [1/1.9, 1/1.6]      # Factor 2: Service rate per server (1/service time)\n",
        "\n",
        "# Function to generate interarrival times\n",
        "def generate_interarrival_time(arrival_rate):\n",
        "    \"\"\"Generate interarrival time based on exponential distribution.\"\"\"\n",
        "    return random.expovariate(arrival_rate)\n",
        "\n",
        "# Function to generate service times\n",
        "def generate_service_time(mean_service_rate):\n",
        "    \"\"\"Generate service time based on exponential distribution.\"\"\"\n",
        "    return random.expovariate(mean_service_rate)\n",
        "\n",
        "# Simulation function\n",
        "def simulate_one_run(c, service_rate, customer_interval):\n",
        "    \"\"\"Simulate a single M/M/c run with given `c` servers and `service_rate`.\"\"\"\n",
        "    delays = {}\n",
        "    queue_lengths = {}\n",
        "\n",
        "    def customer(env, name, server, service_rate):\n",
        "        \"\"\"A customer process arriving and waiting for service.\"\"\"\n",
        "        arrival_time = env.now\n",
        "        queue_length_at_arrival = len(server.queue)  # Log queue length\n",
        "\n",
        "        with server.request() as request:\n",
        "            yield request  # Wait for the server\n",
        "            wait_time = env.now - arrival_time  # Time spent in queue\n",
        "\n",
        "            if name % customer_interval == 0:  # Record for every `customer_interval` customer\n",
        "                delays[name] = wait_time\n",
        "                queue_lengths[name] = queue_length_at_arrival\n",
        "\n",
        "            service_time = generate_service_time(service_rate)\n",
        "            yield env.timeout(service_time)  # Simulate service\n",
        "\n",
        "    def arrival_process(env, server, arrival_rate, service_rate):\n",
        "        \"\"\"Process generating customers according to a Poisson arrival process.\"\"\"\n",
        "        customer_id = 0\n",
        "        while True:\n",
        "            interarrival_time = generate_interarrival_time(arrival_rate)\n",
        "            yield env.timeout(interarrival_time)\n",
        "            customer_id += 1\n",
        "            env.process(customer(env, customer_id, server, service_rate))\n",
        "\n",
        "    # Create the simulation environment\n",
        "    env = simpy.Environment()\n",
        "    server = simpy.Resource(env, capacity=c)\n",
        "    env.process(arrival_process(env, server, ARRIVAL_RATE, service_rate))\n",
        "    env.run(until=SIM_TIME)\n",
        "\n",
        "    return delays, queue_lengths\n",
        "\n",
        "# Dictionary to store results for all (SERVERS × SERVICE_RATES) combinations\n",
        "results = {}\n",
        "\n",
        "# Run the simulation for all combinations of SERVERS & SERVICE_RATES\n",
        "for c, service_rate in itertools.product(SERVERS, SERVICE_RATES):\n",
        "    key = f\"Servers={c}, ServiceRate={service_rate:.4f}\"  # Unique key for each setting\n",
        "\n",
        "    all_delays = {i: [] for i in range(CUSTOMER_INTERVAL, SIM_TIME, CUSTOMER_INTERVAL)}\n",
        "    all_queue_lengths = {i: [] for i in range(CUSTOMER_INTERVAL, SIM_TIME, CUSTOMER_INTERVAL)}\n",
        "\n",
        "    # Run simulations with tqdm progress bar\n",
        "    for _ in tqdm(range(NUM_RUNS), desc=f\"Simulating {key}\", unit=\"run\"):\n",
        "        delays, queue_lengths = simulate_one_run(c, service_rate, CUSTOMER_INTERVAL)\n",
        "\n",
        "        for customer, delay in delays.items():\n",
        "            if customer in all_delays:\n",
        "                all_delays[customer].append(delay)\n",
        "\n",
        "        for customer, queue_length in queue_lengths.items():\n",
        "            if customer in all_queue_lengths:\n",
        "                all_queue_lengths[customer].append(queue_length)\n",
        "\n",
        "    # Store results in dictionary\n",
        "    results[key] = (\n",
        "        pd.DataFrame.from_dict(all_delays, orient=\"index\").T,  # Delay DataFrame\n",
        "        pd.DataFrame.from_dict(all_queue_lengths, orient=\"index\").T  # Queue Length DataFrame\n",
        "    )"
      ]
    },
    {
      "cell_type": "code",
      "execution_count": null,
      "metadata": {
        "colab": {
          "base_uri": "https://localhost:8080/",
          "height": 397
        },
        "id": "Wvng_zNpftbz",
        "outputId": "7974d9fc-eefc-45ca-9a84-ef62b692d991"
      },
      "outputs": [
        {
          "output_type": "error",
          "ename": "KeyboardInterrupt",
          "evalue": "",
          "traceback": [
            "\u001b[0;31m---------------------------------------------------------------------------\u001b[0m",
            "\u001b[0;31mKeyboardInterrupt\u001b[0m                         Traceback (most recent call last)",
            "\u001b[0;32m<ipython-input-53-02079e6e0285>\u001b[0m in \u001b[0;36m<cell line: 0>\u001b[0;34m()\u001b[0m\n\u001b[1;32m     19\u001b[0m \u001b[0;34m\u001b[0m\u001b[0m\n\u001b[1;32m     20\u001b[0m   \u001b[0mplt\u001b[0m\u001b[0;34m.\u001b[0m\u001b[0mplot\u001b[0m\u001b[0;34m(\u001b[0m\u001b[0mmean_delay\u001b[0m\u001b[0;34m.\u001b[0m\u001b[0mindex\u001b[0m\u001b[0;34m,\u001b[0m \u001b[0mmean_delay\u001b[0m\u001b[0;34m.\u001b[0m\u001b[0mvalues\u001b[0m\u001b[0;34m)\u001b[0m\u001b[0;34m\u001b[0m\u001b[0;34m\u001b[0m\u001b[0m\n\u001b[0;32m---> 21\u001b[0;31m   \u001b[0mplt\u001b[0m\u001b[0;34m.\u001b[0m\u001b[0mhlines\u001b[0m\u001b[0;34m(\u001b[0m\u001b[0mdf_delays_steady\u001b[0m\u001b[0;34m,\u001b[0m \u001b[0mxmin\u001b[0m\u001b[0;34m=\u001b[0m\u001b[0mmean_delay\u001b[0m\u001b[0;34m.\u001b[0m\u001b[0mindex\u001b[0m\u001b[0;34m.\u001b[0m\u001b[0mmin\u001b[0m\u001b[0;34m(\u001b[0m\u001b[0;34m)\u001b[0m\u001b[0;34m,\u001b[0m \u001b[0mxmax\u001b[0m\u001b[0;34m=\u001b[0m\u001b[0mmean_delay\u001b[0m\u001b[0;34m.\u001b[0m\u001b[0mindex\u001b[0m\u001b[0;34m.\u001b[0m\u001b[0mmax\u001b[0m\u001b[0;34m(\u001b[0m\u001b[0;34m)\u001b[0m\u001b[0;34m,\u001b[0m \u001b[0mlinestyles\u001b[0m\u001b[0;34m=\u001b[0m\u001b[0;34m'dashed'\u001b[0m\u001b[0;34m,\u001b[0m \u001b[0mlw\u001b[0m\u001b[0;34m=\u001b[0m\u001b[0;36m1\u001b[0m\u001b[0;34m)\u001b[0m\u001b[0;34m\u001b[0m\u001b[0;34m\u001b[0m\u001b[0m\n\u001b[0m\u001b[1;32m     22\u001b[0m \u001b[0;34m\u001b[0m\u001b[0m\n\u001b[1;32m     23\u001b[0m \u001b[0mplt\u001b[0m\u001b[0;34m.\u001b[0m\u001b[0mylim\u001b[0m\u001b[0;34m(\u001b[0m\u001b[0;36m0.5\u001b[0m\u001b[0;34m)\u001b[0m\u001b[0;34m\u001b[0m\u001b[0;34m\u001b[0m\u001b[0m\n",
            "\u001b[0;32m/usr/local/lib/python3.11/dist-packages/matplotlib/_api/deprecation.py\u001b[0m in \u001b[0;36mwrapper\u001b[0;34m(*args, **kwargs)\u001b[0m\n\u001b[1;32m    451\u001b[0m                 \u001b[0;34m\"parameter will become keyword-only in %(removal)s.\"\u001b[0m\u001b[0;34m,\u001b[0m\u001b[0;34m\u001b[0m\u001b[0;34m\u001b[0m\u001b[0m\n\u001b[1;32m    452\u001b[0m                 name=name, obj_type=f\"parameter of {func.__name__}()\")\n\u001b[0;32m--> 453\u001b[0;31m         \u001b[0;32mreturn\u001b[0m \u001b[0mfunc\u001b[0m\u001b[0;34m(\u001b[0m\u001b[0;34m*\u001b[0m\u001b[0margs\u001b[0m\u001b[0;34m,\u001b[0m \u001b[0;34m**\u001b[0m\u001b[0mkwargs\u001b[0m\u001b[0;34m)\u001b[0m\u001b[0;34m\u001b[0m\u001b[0;34m\u001b[0m\u001b[0m\n\u001b[0m\u001b[1;32m    454\u001b[0m \u001b[0;34m\u001b[0m\u001b[0m\n\u001b[1;32m    455\u001b[0m     \u001b[0;31m# Don't modify *func*'s signature, as boilerplate.py needs it.\u001b[0m\u001b[0;34m\u001b[0m\u001b[0;34m\u001b[0m\u001b[0m\n",
            "\u001b[0;32m/usr/local/lib/python3.11/dist-packages/matplotlib/pyplot.py\u001b[0m in \u001b[0;36mhlines\u001b[0;34m(y, xmin, xmax, colors, linestyles, label, data, **kwargs)\u001b[0m\n\u001b[1;32m   3555\u001b[0m     \u001b[0;34m**\u001b[0m\u001b[0mkwargs\u001b[0m\u001b[0;34m,\u001b[0m\u001b[0;34m\u001b[0m\u001b[0;34m\u001b[0m\u001b[0m\n\u001b[1;32m   3556\u001b[0m ) -> LineCollection:\n\u001b[0;32m-> 3557\u001b[0;31m     return gca().hlines(\n\u001b[0m\u001b[1;32m   3558\u001b[0m         \u001b[0my\u001b[0m\u001b[0;34m,\u001b[0m\u001b[0;34m\u001b[0m\u001b[0;34m\u001b[0m\u001b[0m\n\u001b[1;32m   3559\u001b[0m         \u001b[0mxmin\u001b[0m\u001b[0;34m,\u001b[0m\u001b[0;34m\u001b[0m\u001b[0;34m\u001b[0m\u001b[0m\n",
            "\u001b[0;32m/usr/local/lib/python3.11/dist-packages/matplotlib/_api/deprecation.py\u001b[0m in \u001b[0;36mwrapper\u001b[0;34m(*args, **kwargs)\u001b[0m\n\u001b[1;32m    451\u001b[0m                 \u001b[0;34m\"parameter will become keyword-only in %(removal)s.\"\u001b[0m\u001b[0;34m,\u001b[0m\u001b[0;34m\u001b[0m\u001b[0;34m\u001b[0m\u001b[0m\n\u001b[1;32m    452\u001b[0m                 name=name, obj_type=f\"parameter of {func.__name__}()\")\n\u001b[0;32m--> 453\u001b[0;31m         \u001b[0;32mreturn\u001b[0m \u001b[0mfunc\u001b[0m\u001b[0;34m(\u001b[0m\u001b[0;34m*\u001b[0m\u001b[0margs\u001b[0m\u001b[0;34m,\u001b[0m \u001b[0;34m**\u001b[0m\u001b[0mkwargs\u001b[0m\u001b[0;34m)\u001b[0m\u001b[0;34m\u001b[0m\u001b[0;34m\u001b[0m\u001b[0m\n\u001b[0m\u001b[1;32m    454\u001b[0m \u001b[0;34m\u001b[0m\u001b[0m\n\u001b[1;32m    455\u001b[0m     \u001b[0;31m# Don't modify *func*'s signature, as boilerplate.py needs it.\u001b[0m\u001b[0;34m\u001b[0m\u001b[0;34m\u001b[0m\u001b[0m\n",
            "\u001b[0;32m/usr/local/lib/python3.11/dist-packages/matplotlib/__init__.py\u001b[0m in \u001b[0;36minner\u001b[0;34m(ax, data, *args, **kwargs)\u001b[0m\n\u001b[1;32m   1519\u001b[0m     \u001b[0;32mdef\u001b[0m \u001b[0minner\u001b[0m\u001b[0;34m(\u001b[0m\u001b[0max\u001b[0m\u001b[0;34m,\u001b[0m \u001b[0;34m*\u001b[0m\u001b[0margs\u001b[0m\u001b[0;34m,\u001b[0m \u001b[0mdata\u001b[0m\u001b[0;34m=\u001b[0m\u001b[0;32mNone\u001b[0m\u001b[0;34m,\u001b[0m \u001b[0;34m**\u001b[0m\u001b[0mkwargs\u001b[0m\u001b[0;34m)\u001b[0m\u001b[0;34m:\u001b[0m\u001b[0;34m\u001b[0m\u001b[0;34m\u001b[0m\u001b[0m\n\u001b[1;32m   1520\u001b[0m         \u001b[0;32mif\u001b[0m \u001b[0mdata\u001b[0m \u001b[0;32mis\u001b[0m \u001b[0;32mNone\u001b[0m\u001b[0;34m:\u001b[0m\u001b[0;34m\u001b[0m\u001b[0;34m\u001b[0m\u001b[0m\n\u001b[0;32m-> 1521\u001b[0;31m             return func(\n\u001b[0m\u001b[1;32m   1522\u001b[0m                 \u001b[0max\u001b[0m\u001b[0;34m,\u001b[0m\u001b[0;34m\u001b[0m\u001b[0;34m\u001b[0m\u001b[0m\n\u001b[1;32m   1523\u001b[0m                 \u001b[0;34m*\u001b[0m\u001b[0mmap\u001b[0m\u001b[0;34m(\u001b[0m\u001b[0mcbook\u001b[0m\u001b[0;34m.\u001b[0m\u001b[0msanitize_sequence\u001b[0m\u001b[0;34m,\u001b[0m \u001b[0margs\u001b[0m\u001b[0;34m)\u001b[0m\u001b[0;34m,\u001b[0m\u001b[0;34m\u001b[0m\u001b[0;34m\u001b[0m\u001b[0m\n",
            "\u001b[0;32m/usr/local/lib/python3.11/dist-packages/matplotlib/axes/_axes.py\u001b[0m in \u001b[0;36mhlines\u001b[0;34m(self, y, xmin, xmax, colors, linestyles, label, **kwargs)\u001b[0m\n\u001b[1;32m   1158\u001b[0m         \u001b[0mmasked_verts\u001b[0m\u001b[0;34m[\u001b[0m\u001b[0;34m:\u001b[0m\u001b[0;34m,\u001b[0m \u001b[0;36m1\u001b[0m\u001b[0;34m,\u001b[0m \u001b[0;36m1\u001b[0m\u001b[0;34m]\u001b[0m \u001b[0;34m=\u001b[0m \u001b[0my\u001b[0m\u001b[0;34m\u001b[0m\u001b[0;34m\u001b[0m\u001b[0m\n\u001b[1;32m   1159\u001b[0m \u001b[0;34m\u001b[0m\u001b[0m\n\u001b[0;32m-> 1160\u001b[0;31m         lines = mcoll.LineCollection(masked_verts, colors=colors,\n\u001b[0m\u001b[1;32m   1161\u001b[0m                                      linestyles=linestyles, label=label)\n\u001b[1;32m   1162\u001b[0m         \u001b[0mself\u001b[0m\u001b[0;34m.\u001b[0m\u001b[0madd_collection\u001b[0m\u001b[0;34m(\u001b[0m\u001b[0mlines\u001b[0m\u001b[0;34m,\u001b[0m \u001b[0mautolim\u001b[0m\u001b[0;34m=\u001b[0m\u001b[0;32mFalse\u001b[0m\u001b[0;34m)\u001b[0m\u001b[0;34m\u001b[0m\u001b[0;34m\u001b[0m\u001b[0m\n",
            "\u001b[0;32m/usr/local/lib/python3.11/dist-packages/matplotlib/collections.py\u001b[0m in \u001b[0;36m__init__\u001b[0;34m(self, segments, zorder, **kwargs)\u001b[0m\n\u001b[1;32m   1647\u001b[0m             \u001b[0mzorder\u001b[0m\u001b[0;34m=\u001b[0m\u001b[0mzorder\u001b[0m\u001b[0;34m,\u001b[0m\u001b[0;34m\u001b[0m\u001b[0;34m\u001b[0m\u001b[0m\n\u001b[1;32m   1648\u001b[0m             **kwargs)\n\u001b[0;32m-> 1649\u001b[0;31m         \u001b[0mself\u001b[0m\u001b[0;34m.\u001b[0m\u001b[0mset_segments\u001b[0m\u001b[0;34m(\u001b[0m\u001b[0msegments\u001b[0m\u001b[0;34m)\u001b[0m\u001b[0;34m\u001b[0m\u001b[0;34m\u001b[0m\u001b[0m\n\u001b[0m\u001b[1;32m   1650\u001b[0m \u001b[0;34m\u001b[0m\u001b[0m\n\u001b[1;32m   1651\u001b[0m     \u001b[0;32mdef\u001b[0m \u001b[0mset_segments\u001b[0m\u001b[0;34m(\u001b[0m\u001b[0mself\u001b[0m\u001b[0;34m,\u001b[0m \u001b[0msegments\u001b[0m\u001b[0;34m)\u001b[0m\u001b[0;34m:\u001b[0m\u001b[0;34m\u001b[0m\u001b[0;34m\u001b[0m\u001b[0m\n",
            "\u001b[0;32m/usr/local/lib/python3.11/dist-packages/matplotlib/collections.py\u001b[0m in \u001b[0;36mset_segments\u001b[0;34m(self, segments)\u001b[0m\n\u001b[1;32m   1653\u001b[0m             \u001b[0;32mreturn\u001b[0m\u001b[0;34m\u001b[0m\u001b[0;34m\u001b[0m\u001b[0m\n\u001b[1;32m   1654\u001b[0m \u001b[0;34m\u001b[0m\u001b[0m\n\u001b[0;32m-> 1655\u001b[0;31m         self._paths = [mpath.Path(seg) if isinstance(seg, np.ma.MaskedArray)\n\u001b[0m\u001b[1;32m   1656\u001b[0m                        \u001b[0;32melse\u001b[0m \u001b[0mmpath\u001b[0m\u001b[0;34m.\u001b[0m\u001b[0mPath\u001b[0m\u001b[0;34m(\u001b[0m\u001b[0mnp\u001b[0m\u001b[0;34m.\u001b[0m\u001b[0masarray\u001b[0m\u001b[0;34m(\u001b[0m\u001b[0mseg\u001b[0m\u001b[0;34m,\u001b[0m \u001b[0mfloat\u001b[0m\u001b[0;34m)\u001b[0m\u001b[0;34m)\u001b[0m\u001b[0;34m\u001b[0m\u001b[0;34m\u001b[0m\u001b[0m\n\u001b[1;32m   1657\u001b[0m                        for seg in segments]\n",
            "\u001b[0;32m/usr/local/lib/python3.11/dist-packages/matplotlib/collections.py\u001b[0m in \u001b[0;36m<listcomp>\u001b[0;34m(.0)\u001b[0m\n\u001b[1;32m   1653\u001b[0m             \u001b[0;32mreturn\u001b[0m\u001b[0;34m\u001b[0m\u001b[0;34m\u001b[0m\u001b[0m\n\u001b[1;32m   1654\u001b[0m \u001b[0;34m\u001b[0m\u001b[0m\n\u001b[0;32m-> 1655\u001b[0;31m         self._paths = [mpath.Path(seg) if isinstance(seg, np.ma.MaskedArray)\n\u001b[0m\u001b[1;32m   1656\u001b[0m                        \u001b[0;32melse\u001b[0m \u001b[0mmpath\u001b[0m\u001b[0;34m.\u001b[0m\u001b[0mPath\u001b[0m\u001b[0;34m(\u001b[0m\u001b[0mnp\u001b[0m\u001b[0;34m.\u001b[0m\u001b[0masarray\u001b[0m\u001b[0;34m(\u001b[0m\u001b[0mseg\u001b[0m\u001b[0;34m,\u001b[0m \u001b[0mfloat\u001b[0m\u001b[0;34m)\u001b[0m\u001b[0;34m)\u001b[0m\u001b[0;34m\u001b[0m\u001b[0;34m\u001b[0m\u001b[0m\n\u001b[1;32m   1657\u001b[0m                        for seg in segments]\n",
            "\u001b[0;32m/usr/local/lib/python3.11/dist-packages/matplotlib/path.py\u001b[0m in \u001b[0;36m__init__\u001b[0;34m(self, vertices, codes, _interpolation_steps, closed, readonly)\u001b[0m\n\u001b[1;32m    127\u001b[0m             \u001b[0;32mand\u001b[0m \u001b[0mcodes\u001b[0m \u001b[0;32mas\u001b[0m \u001b[0mread\u001b[0m\u001b[0;34m-\u001b[0m\u001b[0monly\u001b[0m \u001b[0marrays\u001b[0m\u001b[0;34m.\u001b[0m\u001b[0;34m\u001b[0m\u001b[0;34m\u001b[0m\u001b[0m\n\u001b[1;32m    128\u001b[0m         \"\"\"\n\u001b[0;32m--> 129\u001b[0;31m         \u001b[0mvertices\u001b[0m \u001b[0;34m=\u001b[0m \u001b[0m_to_unmasked_float_array\u001b[0m\u001b[0;34m(\u001b[0m\u001b[0mvertices\u001b[0m\u001b[0;34m)\u001b[0m\u001b[0;34m\u001b[0m\u001b[0;34m\u001b[0m\u001b[0m\n\u001b[0m\u001b[1;32m    130\u001b[0m         \u001b[0m_api\u001b[0m\u001b[0;34m.\u001b[0m\u001b[0mcheck_shape\u001b[0m\u001b[0;34m(\u001b[0m\u001b[0;34m(\u001b[0m\u001b[0;32mNone\u001b[0m\u001b[0;34m,\u001b[0m \u001b[0;36m2\u001b[0m\u001b[0;34m)\u001b[0m\u001b[0;34m,\u001b[0m \u001b[0mvertices\u001b[0m\u001b[0;34m=\u001b[0m\u001b[0mvertices\u001b[0m\u001b[0;34m)\u001b[0m\u001b[0;34m\u001b[0m\u001b[0;34m\u001b[0m\u001b[0m\n\u001b[1;32m    131\u001b[0m \u001b[0;34m\u001b[0m\u001b[0m\n",
            "\u001b[0;32m/usr/local/lib/python3.11/dist-packages/matplotlib/cbook.py\u001b[0m in \u001b[0;36m_to_unmasked_float_array\u001b[0;34m(x)\u001b[0m\n\u001b[1;32m   1341\u001b[0m     \"\"\"\n\u001b[1;32m   1342\u001b[0m     \u001b[0;32mif\u001b[0m \u001b[0mhasattr\u001b[0m\u001b[0;34m(\u001b[0m\u001b[0mx\u001b[0m\u001b[0;34m,\u001b[0m \u001b[0;34m'mask'\u001b[0m\u001b[0;34m)\u001b[0m\u001b[0;34m:\u001b[0m\u001b[0;34m\u001b[0m\u001b[0;34m\u001b[0m\u001b[0m\n\u001b[0;32m-> 1343\u001b[0;31m         \u001b[0;32mreturn\u001b[0m \u001b[0mnp\u001b[0m\u001b[0;34m.\u001b[0m\u001b[0mma\u001b[0m\u001b[0;34m.\u001b[0m\u001b[0masarray\u001b[0m\u001b[0;34m(\u001b[0m\u001b[0mx\u001b[0m\u001b[0;34m,\u001b[0m \u001b[0mfloat\u001b[0m\u001b[0;34m)\u001b[0m\u001b[0;34m.\u001b[0m\u001b[0mfilled\u001b[0m\u001b[0;34m(\u001b[0m\u001b[0mnp\u001b[0m\u001b[0;34m.\u001b[0m\u001b[0mnan\u001b[0m\u001b[0;34m)\u001b[0m\u001b[0;34m\u001b[0m\u001b[0;34m\u001b[0m\u001b[0m\n\u001b[0m\u001b[1;32m   1344\u001b[0m     \u001b[0;32melse\u001b[0m\u001b[0;34m:\u001b[0m\u001b[0;34m\u001b[0m\u001b[0;34m\u001b[0m\u001b[0m\n\u001b[1;32m   1345\u001b[0m         \u001b[0;32mreturn\u001b[0m \u001b[0mnp\u001b[0m\u001b[0;34m.\u001b[0m\u001b[0masarray\u001b[0m\u001b[0;34m(\u001b[0m\u001b[0mx\u001b[0m\u001b[0;34m,\u001b[0m \u001b[0mfloat\u001b[0m\u001b[0;34m)\u001b[0m\u001b[0;34m\u001b[0m\u001b[0;34m\u001b[0m\u001b[0m\n",
            "\u001b[0;32m/usr/local/lib/python3.11/dist-packages/numpy/ma/core.py\u001b[0m in \u001b[0;36masarray\u001b[0;34m(a, dtype, order)\u001b[0m\n\u001b[1;32m   8385\u001b[0m     \"\"\"\n\u001b[1;32m   8386\u001b[0m     \u001b[0morder\u001b[0m \u001b[0;34m=\u001b[0m \u001b[0morder\u001b[0m \u001b[0;32mor\u001b[0m \u001b[0;34m'C'\u001b[0m\u001b[0;34m\u001b[0m\u001b[0;34m\u001b[0m\u001b[0m\n\u001b[0;32m-> 8387\u001b[0;31m     return masked_array(a, dtype=dtype, copy=False, keep_mask=True,\n\u001b[0m\u001b[1;32m   8388\u001b[0m                         subok=False, order=order)\n\u001b[1;32m   8389\u001b[0m \u001b[0;34m\u001b[0m\u001b[0m\n",
            "\u001b[0;32m/usr/local/lib/python3.11/dist-packages/numpy/ma/core.py\u001b[0m in \u001b[0;36m__new__\u001b[0;34m(cls, data, mask, dtype, copy, subok, ndmin, fill_value, keep_mask, hard_mask, shrink, order)\u001b[0m\n\u001b[1;32m   2831\u001b[0m     \u001b[0m_print_width_1d\u001b[0m \u001b[0;34m=\u001b[0m \u001b[0;36m1500\u001b[0m\u001b[0;34m\u001b[0m\u001b[0;34m\u001b[0m\u001b[0m\n\u001b[1;32m   2832\u001b[0m \u001b[0;34m\u001b[0m\u001b[0m\n\u001b[0;32m-> 2833\u001b[0;31m     def __new__(cls, data=None, mask=nomask, dtype=None, copy=False,\n\u001b[0m\u001b[1;32m   2834\u001b[0m                 \u001b[0msubok\u001b[0m\u001b[0;34m=\u001b[0m\u001b[0;32mTrue\u001b[0m\u001b[0;34m,\u001b[0m \u001b[0mndmin\u001b[0m\u001b[0;34m=\u001b[0m\u001b[0;36m0\u001b[0m\u001b[0;34m,\u001b[0m \u001b[0mfill_value\u001b[0m\u001b[0;34m=\u001b[0m\u001b[0;32mNone\u001b[0m\u001b[0;34m,\u001b[0m \u001b[0mkeep_mask\u001b[0m\u001b[0;34m=\u001b[0m\u001b[0;32mTrue\u001b[0m\u001b[0;34m,\u001b[0m\u001b[0;34m\u001b[0m\u001b[0;34m\u001b[0m\u001b[0m\n\u001b[1;32m   2835\u001b[0m                 hard_mask=None, shrink=True, order=None):\n",
            "\u001b[0;31mKeyboardInterrupt\u001b[0m: "
          ]
        }
      ],
      "source": [
        "# PART C, TASK 1: Plotting the results\n",
        "idx = 500\n",
        "\n",
        "plt.figure(figsize=(12,6))\n",
        "\n",
        "for key, (df_delays, _) in results.items():\n",
        "  #Extract values from key\n",
        "  num_servers, service_rate = key.split(\", \")\n",
        "  num_servers = int(num_servers.split(\"=\")[1])\n",
        "  service_rate = float(service_rate.split(\"=\")[1])\n",
        "\n",
        "  # Convert column names to integers\n",
        "  df_delays.columns = df_delays.columns.astype(int)\n",
        "\n",
        "  # Select only columns where index > idx\n",
        "  df_delays_steady = df_delays.loc[:, df_delays.columns > idx]\n",
        "\n",
        "  mean_delay = df_delays.mean(axis=0)\n",
        "\n",
        "  plt.plot(mean_delay.index, mean_delay.values)\n",
        "  plt.hlines(df_delays_steady, xmin=mean_delay.index.min(), xmax=mean_delay.index.max(), linestyles='dashed', lw=1)\n",
        "\n",
        "plt.ylim(0.5)\n",
        "plt.xlim(0,2000)\n",
        "plt.xlabel('Customer [Index]')\n",
        "plt.ylabel('Mean Delay [Time Units]')\n",
        "plt.grid()\n",
        "plt.show()"
      ]
    },
    {
      "cell_type": "code",
      "execution_count": 30,
      "metadata": {
        "colab": {
          "base_uri": "https://localhost:8080/",
          "height": 108
        },
        "id": "avLbYiKUftbz",
        "outputId": "34d8b5a2-fb03-4635-ad9e-1116c210dc73"
      },
      "outputs": [
        {
          "output_type": "error",
          "ename": "SyntaxError",
          "evalue": "expected ':' (<ipython-input-30-b11fedc45854>, line 2)",
          "traceback": [
            "\u001b[0;36m  File \u001b[0;32m\"<ipython-input-30-b11fedc45854>\"\u001b[0;36m, line \u001b[0;32m2\u001b[0m\n\u001b[0;31m    for key, (df_delays, _) in results.item()\u001b[0m\n\u001b[0m                                             ^\u001b[0m\n\u001b[0;31mSyntaxError\u001b[0m\u001b[0;31m:\u001b[0m expected ':'\n"
          ]
        }
      ],
      "source": [
        "# PART C, TASK 2: Extracting Responses R1, R2, R3, and R4\n",
        "\n"
      ]
    },
    {
      "cell_type": "code",
      "execution_count": null,
      "metadata": {
        "id": "Wodx3XMEftbz"
      },
      "outputs": [],
      "source": [
        "# PART C, TASK 3: Calculate Effect Sizes e1 and e2\n",
        "\n"
      ]
    }
  ],
  "metadata": {
    "kernelspec": {
      "display_name": ".venv",
      "language": "python",
      "name": "python3"
    },
    "language_info": {
      "codemirror_mode": {
        "name": "ipython",
        "version": 3
      },
      "file_extension": ".py",
      "mimetype": "text/x-python",
      "name": "python",
      "nbconvert_exporter": "python",
      "pygments_lexer": "ipython3",
      "version": "3.13.2"
    },
    "colab": {
      "provenance": []
    }
  },
  "nbformat": 4,
  "nbformat_minor": 0
}